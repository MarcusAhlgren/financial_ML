{
 "cells": [
  {
   "cell_type": "markdown",
   "metadata": {},
   "source": [
    "In this notebook we compare the statistical properties for the following bar sampling techniques:\n",
    "\n",
    "- Time bars\n",
    "- Volume bars\n",
    "- Dollar bars\n",
    "\n",
    "We look into the following statistical properties:\n",
    "\n",
    "- Normality of (log) returns.\n",
    "- Serial correlation."
   ]
  },
  {
   "cell_type": "code",
   "execution_count": 213,
   "metadata": {},
   "outputs": [],
   "source": [
    "import pandas as pd\n",
    "import numpy as np\n",
    "import matplotlib.pyplot as plt\n",
    "import matplotlib.dates as mdates\n",
    "import seaborn as sns\n",
    "import mlfinlab as ml\n",
    "import datetime\n",
    "import scipy\n",
    "from alpha_vantage.timeseries import TimeSeries\n",
    "%matplotlib inline"
   ]
  },
  {
   "cell_type": "code",
   "execution_count": 2,
   "metadata": {},
   "outputs": [],
   "source": [
    "#set credentials for stock API\n",
    "ts = TimeSeries(key = 'PTME3FLJAHB9CY', output_format = 'pandas')"
   ]
  },
  {
   "cell_type": "code",
   "execution_count": 34,
   "metadata": {},
   "outputs": [],
   "source": [
    "#define global variables\n",
    "DATE = \"date\"\n",
    "PRICE = \"4. close\"\n",
    "VOLUME = \"5. volume\""
   ]
  },
  {
   "cell_type": "code",
   "execution_count": 4,
   "metadata": {},
   "outputs": [],
   "source": [
    "#load  daily sample data\n",
    "df, df_meta = ts.get_daily_adjusted(symbol = 'MSFT', outputsize = 'full')"
   ]
  },
  {
   "cell_type": "code",
   "execution_count": 27,
   "metadata": {},
   "outputs": [],
   "source": [
    "#load minutely sample data\n",
    "df, df_meta = ts.get_intraday(symbol = \"MSFT\", interval = \"1min\", outputsize = \"full\")"
   ]
  },
  {
   "cell_type": "code",
   "execution_count": 31,
   "metadata": {},
   "outputs": [
    {
     "data": {
      "text/html": [
       "<div>\n",
       "<style scoped>\n",
       "    .dataframe tbody tr th:only-of-type {\n",
       "        vertical-align: middle;\n",
       "    }\n",
       "\n",
       "    .dataframe tbody tr th {\n",
       "        vertical-align: top;\n",
       "    }\n",
       "\n",
       "    .dataframe thead th {\n",
       "        text-align: right;\n",
       "    }\n",
       "</style>\n",
       "<table border=\"1\" class=\"dataframe\">\n",
       "  <thead>\n",
       "    <tr style=\"text-align: right;\">\n",
       "      <th></th>\n",
       "      <th>1. open</th>\n",
       "      <th>2. high</th>\n",
       "      <th>3. low</th>\n",
       "      <th>4. close</th>\n",
       "      <th>5. volume</th>\n",
       "    </tr>\n",
       "    <tr>\n",
       "      <th>date</th>\n",
       "      <th></th>\n",
       "      <th></th>\n",
       "      <th></th>\n",
       "      <th></th>\n",
       "      <th></th>\n",
       "    </tr>\n",
       "  </thead>\n",
       "  <tbody>\n",
       "    <tr>\n",
       "      <th>2020-01-24 16:00:00</th>\n",
       "      <td>164.8900</td>\n",
       "      <td>165.0600</td>\n",
       "      <td>164.870</td>\n",
       "      <td>165.0400</td>\n",
       "      <td>511882.0</td>\n",
       "    </tr>\n",
       "    <tr>\n",
       "      <th>2020-01-24 15:59:00</th>\n",
       "      <td>164.9800</td>\n",
       "      <td>165.0000</td>\n",
       "      <td>164.860</td>\n",
       "      <td>164.8900</td>\n",
       "      <td>385888.0</td>\n",
       "    </tr>\n",
       "    <tr>\n",
       "      <th>2020-01-24 15:58:00</th>\n",
       "      <td>165.1100</td>\n",
       "      <td>165.1700</td>\n",
       "      <td>164.960</td>\n",
       "      <td>164.9600</td>\n",
       "      <td>259380.0</td>\n",
       "    </tr>\n",
       "    <tr>\n",
       "      <th>2020-01-24 15:57:00</th>\n",
       "      <td>165.1150</td>\n",
       "      <td>165.1800</td>\n",
       "      <td>165.095</td>\n",
       "      <td>165.1050</td>\n",
       "      <td>102700.0</td>\n",
       "    </tr>\n",
       "    <tr>\n",
       "      <th>2020-01-24 15:56:00</th>\n",
       "      <td>165.1801</td>\n",
       "      <td>165.2300</td>\n",
       "      <td>165.080</td>\n",
       "      <td>165.1100</td>\n",
       "      <td>168237.0</td>\n",
       "    </tr>\n",
       "    <tr>\n",
       "      <th>...</th>\n",
       "      <td>...</td>\n",
       "      <td>...</td>\n",
       "      <td>...</td>\n",
       "      <td>...</td>\n",
       "      <td>...</td>\n",
       "    </tr>\n",
       "    <tr>\n",
       "      <th>2020-01-17 09:35:00</th>\n",
       "      <td>166.6800</td>\n",
       "      <td>166.6800</td>\n",
       "      <td>166.680</td>\n",
       "      <td>166.6800</td>\n",
       "      <td>142245.0</td>\n",
       "    </tr>\n",
       "    <tr>\n",
       "      <th>2020-01-17 09:34:00</th>\n",
       "      <td>166.8500</td>\n",
       "      <td>166.9000</td>\n",
       "      <td>166.550</td>\n",
       "      <td>166.5877</td>\n",
       "      <td>172559.0</td>\n",
       "    </tr>\n",
       "    <tr>\n",
       "      <th>2020-01-17 09:33:00</th>\n",
       "      <td>166.9000</td>\n",
       "      <td>166.9475</td>\n",
       "      <td>166.720</td>\n",
       "      <td>166.8400</td>\n",
       "      <td>145436.0</td>\n",
       "    </tr>\n",
       "    <tr>\n",
       "      <th>2020-01-17 09:32:00</th>\n",
       "      <td>167.1200</td>\n",
       "      <td>167.1599</td>\n",
       "      <td>166.880</td>\n",
       "      <td>166.8801</td>\n",
       "      <td>205048.0</td>\n",
       "    </tr>\n",
       "    <tr>\n",
       "      <th>2020-01-17 09:31:00</th>\n",
       "      <td>167.4200</td>\n",
       "      <td>167.4675</td>\n",
       "      <td>167.030</td>\n",
       "      <td>167.1000</td>\n",
       "      <td>4396502.0</td>\n",
       "    </tr>\n",
       "  </tbody>\n",
       "</table>\n",
       "<p>1933 rows × 5 columns</p>\n",
       "</div>"
      ],
      "text/plain": [
       "                      1. open   2. high   3. low  4. close  5. volume\n",
       "date                                                                 \n",
       "2020-01-24 16:00:00  164.8900  165.0600  164.870  165.0400   511882.0\n",
       "2020-01-24 15:59:00  164.9800  165.0000  164.860  164.8900   385888.0\n",
       "2020-01-24 15:58:00  165.1100  165.1700  164.960  164.9600   259380.0\n",
       "2020-01-24 15:57:00  165.1150  165.1800  165.095  165.1050   102700.0\n",
       "2020-01-24 15:56:00  165.1801  165.2300  165.080  165.1100   168237.0\n",
       "...                       ...       ...      ...       ...        ...\n",
       "2020-01-17 09:35:00  166.6800  166.6800  166.680  166.6800   142245.0\n",
       "2020-01-17 09:34:00  166.8500  166.9000  166.550  166.5877   172559.0\n",
       "2020-01-17 09:33:00  166.9000  166.9475  166.720  166.8400   145436.0\n",
       "2020-01-17 09:32:00  167.1200  167.1599  166.880  166.8801   205048.0\n",
       "2020-01-17 09:31:00  167.4200  167.4675  167.030  167.1000  4396502.0\n",
       "\n",
       "[1933 rows x 5 columns]"
      ]
     },
     "execution_count": 31,
     "metadata": {},
     "output_type": "execute_result"
    }
   ],
   "source": [
    "df"
   ]
  },
  {
   "cell_type": "code",
   "execution_count": 28,
   "metadata": {},
   "outputs": [],
   "source": [
    "def get_sample_df(df, date_col, price_col, vol_col):\n",
    "    df = df.reset_index()[[date_col, price_col, vol_col]]\n",
    "    return df"
   ]
  },
  {
   "cell_type": "code",
   "execution_count": 194,
   "metadata": {},
   "outputs": [],
   "source": [
    "def returns(df, price_col, log = False):\n",
    "    if log:\n",
    "        df[price_col] = np.log(df[price_col])\n",
    "    \n",
    "    df[\"return\"] = df[price_col].diff(-1)\n",
    "    return df"
   ]
  },
  {
   "cell_type": "code",
   "execution_count": 184,
   "metadata": {},
   "outputs": [],
   "source": [
    "sample_df = get_sample_df(df, DATE, PRICE, VOLUME)"
   ]
  },
  {
   "cell_type": "code",
   "execution_count": 185,
   "metadata": {},
   "outputs": [
    {
     "name": "stdout",
     "output_type": "stream",
     "text": [
      "Reading data in batches:\n",
      "Batch number: 0\n",
      "Returning bars \n",
      "\n"
     ]
    },
    {
     "data": {
      "text/plain": [
       "(367, 10)"
      ]
     },
     "execution_count": 185,
     "metadata": {},
     "output_type": "execute_result"
    }
   ],
   "source": [
    "vol_bars = ml.data_structures.get_volume_bars(sample_df, 200000)\n",
    "vol_bars.shape"
   ]
  },
  {
   "cell_type": "code",
   "execution_count": 186,
   "metadata": {},
   "outputs": [
    {
     "name": "stdout",
     "output_type": "stream",
     "text": [
      "Reading data in batches:\n",
      "Batch number: 0\n",
      "Returning bars \n",
      "\n"
     ]
    },
    {
     "data": {
      "text/plain": [
       "(558, 10)"
      ]
     },
     "execution_count": 186,
     "metadata": {},
     "output_type": "execute_result"
    }
   ],
   "source": [
    "dollar_bars = ml.data_structures.get_dollar_bars(sample_df, threshold = 20000000)\n",
    "dollar_bars.shape"
   ]
  },
  {
   "cell_type": "code",
   "execution_count": 187,
   "metadata": {},
   "outputs": [
    {
     "data": {
      "image/png": "[encoded data removed]",
      "text/plain": [
       "<Figure size 864x432 with 1 Axes>"
      ]
     },
     "metadata": {
      "needs_background": "light"
     },
     "output_type": "display_data"
    }
   ],
   "source": [
    "fig, ax = plt.subplots(figsize = (12, 6))\n",
    "ax.plot(vol_bars[\"date_time\"], vol_bars[\"close\"], \"o\")\n",
    "ax.plot(dollar_bars[\"date_time\"], dollar_bars[\"close\"], \"x\")\n",
    "ax.set_title(\"Dollar/Volume Bars\")\n",
    "ax.set_xlabel(\"Time\")\n",
    "ax.set_ylabel(\"Price\")\n",
    "plt.show()"
   ]
  },
  {
   "cell_type": "markdown",
   "metadata": {},
   "source": [
    "When plotting dollar/volume bars we see how bars are sampled more frequently at high traffic times. Let's zoom in on one day to see the pattern more clearly. "
   ]
  },
  {
   "cell_type": "code",
   "execution_count": 188,
   "metadata": {},
   "outputs": [
    {
     "data": {
      "image/png": "[encoded data removed]",
      "text/plain": [
       "<Figure size 864x432 with 1 Axes>"
      ]
     },
     "metadata": {
      "needs_background": "light"
     },
     "output_type": "display_data"
    }
   ],
   "source": [
    "temp_dollar_bars = dollar_bars[dollar_bars[\"date_time\"].dt.date == datetime.date(2020, 1, 24)]\n",
    "temp_vol_bars = vol_bars[vol_bars[\"date_time\"].dt.date == datetime.date(2020, 1, 24)]\n",
    "hours = mdates.HourLocator(interval = 1)\n",
    "\n",
    "fig, ax = plt.subplots(figsize = (12, 6))\n",
    "ax.plot(temp_vol_bars[\"date_time\"], temp_vol_bars[\"close\"], \"o\", label = \"Volume\")\n",
    "ax.plot(temp_dollar_bars[\"date_time\"], temp_dollar_bars[\"close\"], \"x\", label = \"Dollars\")\n",
    "ax.set_title(\"Dollar/Volume Bars\")\n",
    "ax.set_xlabel(\"Time\")\n",
    "ax.set_ylabel(\"Price\")\n",
    "ax.xaxis.set_major_locator(hours)\n",
    "plt.legend()\n",
    "plt.show()"
   ]
  },
  {
   "cell_type": "markdown",
   "metadata": {},
   "source": [
    "When looking at one day we can more clearly see how more bars are sampled at opening/closing hours of the stock market."
   ]
  },
  {
   "cell_type": "markdown",
   "metadata": {},
   "source": [
    "# Normality of Returns\n",
    "We can start by visually inspecting the distribution of the returns for different sampling techniques to get a better understanding of their distributions."
   ]
  },
  {
   "cell_type": "code",
   "execution_count": 197,
   "metadata": {},
   "outputs": [],
   "source": [
    "dollar_bars = returns(dollar_bars, \"close\", log = \"True\")\n",
    "vol_bars = returns(vol_bars, \"close\", log = \"True\")\n",
    "sample_df = returns(sample_df, PRICE, log = \"True\")"
   ]
  },
  {
   "cell_type": "code",
   "execution_count": 202,
   "metadata": {},
   "outputs": [
    {
     "data": {
      "image/png": "[encoded data removed]",
      "text/plain": [
       "<Figure size 576x576 with 3 Axes>"
      ]
     },
     "metadata": {
      "needs_background": "light"
     },
     "output_type": "display_data"
    }
   ],
   "source": [
    "fig, axes = plt.subplots(nrows = 3, ncols = 1, figsize = (8, 8))\n",
    "dollar_bars[\"return\"].hist(ax = axes[0], bins = 40, label = \"Dollar bars\")\n",
    "vol_bars[\"return\"].hist(ax = axes[1], bins = 40, label = \"Volume bars\")\n",
    "sample_df[\"return\"].hist(ax = axes[2], bins = 40, label = \"Time bars\")\n",
    "plt.show()"
   ]
  },
  {
   "cell_type": "markdown",
   "metadata": {},
   "source": [
    "We can more formallly look into the normality of returns for the different techniques by performing a Shapiro-Wilk test."
   ]
  },
  {
   "cell_type": "code",
   "execution_count": 256,
   "metadata": {},
   "outputs": [
    {
     "data": {
      "text/html": [
       "<div>\n",
       "<style scoped>\n",
       "    .dataframe tbody tr th:only-of-type {\n",
       "        vertical-align: middle;\n",
       "    }\n",
       "\n",
       "    .dataframe tbody tr th {\n",
       "        vertical-align: top;\n",
       "    }\n",
       "\n",
       "    .dataframe thead th {\n",
       "        text-align: right;\n",
       "    }\n",
       "</style>\n",
       "<table border=\"1\" class=\"dataframe\">\n",
       "  <thead>\n",
       "    <tr style=\"text-align: right;\">\n",
       "      <th></th>\n",
       "      <th>Shapiro-Wilk p-value</th>\n",
       "    </tr>\n",
       "  </thead>\n",
       "  <tbody>\n",
       "    <tr>\n",
       "      <th>Dollar</th>\n",
       "      <td>3.174761e-04</td>\n",
       "    </tr>\n",
       "    <tr>\n",
       "      <th>Volume</th>\n",
       "      <td>6.469371e-02</td>\n",
       "    </tr>\n",
       "    <tr>\n",
       "      <th>Time</th>\n",
       "      <td>4.130767e-26</td>\n",
       "    </tr>\n",
       "  </tbody>\n",
       "</table>\n",
       "</div>"
      ],
      "text/plain": [
       "        Shapiro-Wilk p-value\n",
       "Dollar          3.174761e-04\n",
       "Volume          6.469371e-02\n",
       "Time            4.130767e-26"
      ]
     },
     "execution_count": 256,
     "metadata": {},
     "output_type": "execute_result"
    }
   ],
   "source": [
    "data = [scipy.stats.shapiro(dollar_bars[\"return\"].dropna())[1], scipy.stats.shapiro(vol_bars[\"return\"].dropna())[1], scipy.stats.shapiro(sample_df[\"return\"].dropna())[1]]\n",
    "pd.DataFrame(index = [\"Dollar\", \"Volume\", \"Time\"], data = data, columns = [\"Shapiro-Wilk p-value\"])"
   ]
  },
  {
   "cell_type": "markdown",
   "metadata": {},
   "source": [
    "We reject all distributions as normal at alpha level 0.01. Dollar bars and volume bars have returns closer to normal than time bas."
   ]
  },
  {
   "cell_type": "code",
   "execution_count": 226,
   "metadata": {},
   "outputs": [
    {
     "data": {
      "text/html": [
       "<div>\n",
       "<style scoped>\n",
       "    .dataframe tbody tr th:only-of-type {\n",
       "        vertical-align: middle;\n",
       "    }\n",
       "\n",
       "    .dataframe tbody tr th {\n",
       "        vertical-align: top;\n",
       "    }\n",
       "\n",
       "    .dataframe thead th {\n",
       "        text-align: right;\n",
       "    }\n",
       "</style>\n",
       "<table border=\"1\" class=\"dataframe\">\n",
       "  <thead>\n",
       "    <tr style=\"text-align: right;\">\n",
       "      <th></th>\n",
       "      <th>Autocorr stat</th>\n",
       "    </tr>\n",
       "  </thead>\n",
       "  <tbody>\n",
       "    <tr>\n",
       "      <th>Dollar</th>\n",
       "      <td>0.010231</td>\n",
       "    </tr>\n",
       "    <tr>\n",
       "      <th>Volume</th>\n",
       "      <td>-0.021781</td>\n",
       "    </tr>\n",
       "    <tr>\n",
       "      <th>Time</th>\n",
       "      <td>0.041033</td>\n",
       "    </tr>\n",
       "  </tbody>\n",
       "</table>\n",
       "</div>"
      ],
      "text/plain": [
       "        Autocorr stat\n",
       "Dollar       0.010231\n",
       "Volume      -0.021781\n",
       "Time         0.041033"
      ]
     },
     "execution_count": 226,
     "metadata": {},
     "output_type": "execute_result"
    }
   ],
   "source": [
    "data = [dollar_bars[\"return\"].autocorr(), vol_bars[\"return\"].autocorr(), sample_df[\"return\"].autocorr()]\n",
    "pd.DataFrame(index = [\"Dollar\", \"Volume\", \"Time\"], data = data, columns = [\"Autocorr stat\"])"
   ]
  },
  {
   "cell_type": "markdown",
   "metadata": {},
   "source": [
    "Dollar and volume bars yield less serial correlation than time bars."
   ]
  }
 ],
 "metadata": {
  "kernelspec": {
   "display_name": "Python 3",
   "language": "python",
   "name": "python3"
  },
  "language_info": {
   "codemirror_mode": {
    "name": "ipython",
    "version": 3
   },
   "file_extension": ".py",
   "mimetype": "text/x-python",
   "name": "python",
   "nbconvert_exporter": "python",
   "pygments_lexer": "ipython3",
   "version": "3.7.4"
  }
 },
 "nbformat": 4,
 "nbformat_minor": 4
}
